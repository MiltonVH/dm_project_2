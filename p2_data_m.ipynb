{
  "nbformat": 4,
  "nbformat_minor": 0,
  "metadata": {
    "colab": {
      "provenance": [],
      "toc_visible": true
    },
    "kernelspec": {
      "name": "python3",
      "display_name": "Python 3"
    },
    "language_info": {
      "name": "python"
    }
  },
  "cells": [
    {
      "cell_type": "markdown",
      "source": [
        "# Instalación e importación de librerías"
      ],
      "metadata": {
        "id": "aWXEBI83GVjM"
      }
    },
    {
      "cell_type": "code",
      "execution_count": 1,
      "metadata": {
        "id": "xXLGwZSJwcQn"
      },
      "outputs": [],
      "source": [
        "!cp '/content/drive/MyDrive/temp/2023-Grad-Internet.sav' '/content/'"
      ]
    },
    {
      "cell_type": "code",
      "source": [
        "!pip install pyreadstat"
      ],
      "metadata": {
        "id": "PqqV9WkEEN54",
        "colab": {
          "base_uri": "https://localhost:8080/"
        },
        "outputId": "6946dbba-2a95-40c1-d2f3-22e8053b6867"
      },
      "execution_count": 2,
      "outputs": [
        {
          "output_type": "stream",
          "name": "stdout",
          "text": [
            "Collecting pyreadstat\n",
            "  Downloading pyreadstat-1.2.8-cp310-cp310-manylinux_2_17_x86_64.manylinux2014_x86_64.whl.metadata (1.0 kB)\n",
            "Requirement already satisfied: pandas>=1.2.0 in /usr/local/lib/python3.10/dist-packages (from pyreadstat) (2.2.2)\n",
            "Requirement already satisfied: numpy>=1.22.4 in /usr/local/lib/python3.10/dist-packages (from pandas>=1.2.0->pyreadstat) (1.26.4)\n",
            "Requirement already satisfied: python-dateutil>=2.8.2 in /usr/local/lib/python3.10/dist-packages (from pandas>=1.2.0->pyreadstat) (2.8.2)\n",
            "Requirement already satisfied: pytz>=2020.1 in /usr/local/lib/python3.10/dist-packages (from pandas>=1.2.0->pyreadstat) (2024.2)\n",
            "Requirement already satisfied: tzdata>=2022.7 in /usr/local/lib/python3.10/dist-packages (from pandas>=1.2.0->pyreadstat) (2024.2)\n",
            "Requirement already satisfied: six>=1.5 in /usr/local/lib/python3.10/dist-packages (from python-dateutil>=2.8.2->pandas>=1.2.0->pyreadstat) (1.16.0)\n",
            "Downloading pyreadstat-1.2.8-cp310-cp310-manylinux_2_17_x86_64.manylinux2014_x86_64.whl (2.8 MB)\n",
            "\u001b[2K   \u001b[90m━━━━━━━━━━━━━━━━━━━━━━━━━━━━━━━━━━━━━━━━\u001b[0m \u001b[32m2.8/2.8 MB\u001b[0m \u001b[31m27.6 MB/s\u001b[0m eta \u001b[36m0:00:00\u001b[0m\n",
            "\u001b[?25hInstalling collected packages: pyreadstat\n",
            "Successfully installed pyreadstat-1.2.8\n"
          ]
        }
      ]
    },
    {
      "cell_type": "code",
      "source": [
        "import numpy as np\n",
        "import pandas as pd\n",
        "import tensorflow as tf\n",
        "from tensorflow.keras.models import Sequential\n",
        "from tensorflow.keras.layers import Dense\n",
        "from sklearn.model_selection import train_test_split"
      ],
      "metadata": {
        "id": "dhchsxqJCzdc"
      },
      "execution_count": 1,
      "outputs": []
    },
    {
      "cell_type": "markdown",
      "source": [
        "# Carga de datos"
      ],
      "metadata": {
        "id": "nipvqbE-DGTx"
      }
    },
    {
      "cell_type": "code",
      "source": [
        "df23 = pd.read_spss('2023-Grad-Internet.sav')"
      ],
      "metadata": {
        "id": "_WF0ShHB37Dh"
      },
      "execution_count": 2,
      "outputs": []
    },
    {
      "cell_type": "markdown",
      "source": [
        "# Definición de variables y limpieza"
      ],
      "metadata": {
        "id": "IxLR1LBbDBA3"
      }
    },
    {
      "cell_type": "code",
      "source": [
        "vars = [\n",
        "    'Logro_Lect',\n",
        "    'Logro_Mate',\n",
        "    'Lect_Periodos_Lectura_Semana',\n",
        "    'Mate_Periodos_Matematicas_Semana',\n",
        "    'Computadora',\n",
        "    'Sc_Servicio_Internet',\n",
        "    'Sexo_RECO',\n",
        "    'Edad_RECO',\n",
        "    'Lect_Libros_Completos_Ha_Leido',\n",
        "    'Ed_Repitio_Algun_Grado',\n",
        "    'Fm_Grado_Alcanzo_Papa_RECO',\n",
        "    'Fm_Grado_Alcanzo_Mama_RECO',\n",
        "    'Cod_Sector',\n",
        "    'Cod_Area',\n",
        "    'Cod_Region'\n",
        "    ]\n",
        "\n"
      ],
      "metadata": {
        "id": "L4TbtFRYIXUX"
      },
      "execution_count": 3,
      "outputs": []
    },
    {
      "cell_type": "code",
      "source": [
        "df = df23[vars]\n",
        "df = df[df[vars] != '']\n",
        "df = df.dropna()\n",
        "df['Cod_Area'] = df['Cod_Area'].astype(str).astype('category')\n",
        "df['Cod_Sector'] = df['Cod_Sector'].astype(str).astype('category')\n",
        "df = df.sample(frac = 1, random_state = 42).reset_index(drop=True)"
      ],
      "metadata": {
        "id": "u6jfC8Zl-h8x"
      },
      "execution_count": 4,
      "outputs": []
    },
    {
      "cell_type": "markdown",
      "source": [
        "# Predicción de logro en lectura"
      ],
      "metadata": {
        "id": "Sq1zz_g1dbmr"
      }
    },
    {
      "cell_type": "markdown",
      "source": [
        "## Datos de entrenamiento"
      ],
      "metadata": {
        "id": "dymBuq0lDVBX"
      }
    },
    {
      "cell_type": "code",
      "source": [
        "x = df.drop(columns=['Logro_Lect', 'Logro_Mate'], axis=1)\n",
        "dato = x.head(1)\n",
        "x = pd.get_dummies(x)\n",
        "y = df['Logro_Lect']\n",
        "y = pd.get_dummies(y)"
      ],
      "metadata": {
        "id": "kPY9ZHFkqUnl"
      },
      "execution_count": 57,
      "outputs": []
    },
    {
      "cell_type": "code",
      "source": [
        "X_train, X_test, y_train, y_test  = train_test_split(x, y,\n",
        "                                                     test_size = 0.2,\n",
        "                                                     random_state = 42)"
      ],
      "metadata": {
        "id": "cZjN7Pk5qi2Q"
      },
      "execution_count": 58,
      "outputs": []
    },
    {
      "cell_type": "markdown",
      "source": [
        "## Construcción del modelo y entrenamiento"
      ],
      "metadata": {
        "id": "0yQGCf9ocK5H"
      }
    },
    {
      "cell_type": "code",
      "source": [
        "X_train.shape"
      ],
      "metadata": {
        "colab": {
          "base_uri": "https://localhost:8080/"
        },
        "id": "RCv-C576W6Tg",
        "outputId": "af6e159d-898a-4ef9-9c4b-e7567700b747"
      },
      "execution_count": 59,
      "outputs": [
        {
          "output_type": "execute_result",
          "data": {
            "text/plain": [
              "(113745, 62)"
            ]
          },
          "metadata": {},
          "execution_count": 59
        }
      ]
    },
    {
      "cell_type": "code",
      "source": [
        "modelo_1 = Sequential()\n",
        "modelo_1.add(Dense(62, input_dim = 62, activation = 'relu'))\n",
        "modelo_1.add(Dense(32, activation='relu'))\n",
        "modelo_1.add(Dense(16, activation='relu'))\n",
        "modelo_1.add(Dense(8, activation='relu'))\n",
        "modelo_1.add(Dense(2, activation='sigmoid'))"
      ],
      "metadata": {
        "id": "_QQ-AHb-qkWl",
        "colab": {
          "base_uri": "https://localhost:8080/"
        },
        "outputId": "c6d4bcc9-1802-469b-b7c0-66916fc6243e"
      },
      "execution_count": 60,
      "outputs": [
        {
          "output_type": "stream",
          "name": "stderr",
          "text": [
            "/usr/local/lib/python3.10/dist-packages/keras/src/layers/core/dense.py:87: UserWarning: Do not pass an `input_shape`/`input_dim` argument to a layer. When using Sequential models, prefer using an `Input(shape)` object as the first layer in the model instead.\n",
            "  super().__init__(activity_regularizer=activity_regularizer, **kwargs)\n"
          ]
        }
      ]
    },
    {
      "cell_type": "code",
      "source": [
        "modelo_1.compile(loss ='binary_crossentropy',\n",
        "              optimizer ='adam', metrics =['accuracy'])"
      ],
      "metadata": {
        "id": "rClAsca5qvpA"
      },
      "execution_count": 61,
      "outputs": []
    },
    {
      "cell_type": "code",
      "source": [
        "modelo_1.fit(X_train, y_train, epochs = 50,\n",
        "          batch_size = 64, validation_data=(X_test, y_test))"
      ],
      "metadata": {
        "id": "IxVyJ6U-qyXr",
        "colab": {
          "base_uri": "https://localhost:8080/"
        },
        "outputId": "548a8b83-d294-4457-ef01-55370bc361f0"
      },
      "execution_count": 62,
      "outputs": [
        {
          "output_type": "stream",
          "name": "stdout",
          "text": [
            "Epoch 1/50\n",
            "\u001b[1m1778/1778\u001b[0m \u001b[32m━━━━━━━━━━━━━━━━━━━━\u001b[0m\u001b[37m\u001b[0m \u001b[1m7s\u001b[0m 3ms/step - accuracy: 0.7127 - loss: 0.5576 - val_accuracy: 0.7321 - val_loss: 0.5366\n",
            "Epoch 2/50\n",
            "\u001b[1m1778/1778\u001b[0m \u001b[32m━━━━━━━━━━━━━━━━━━━━\u001b[0m\u001b[37m\u001b[0m \u001b[1m12s\u001b[0m 4ms/step - accuracy: 0.7391 - loss: 0.5284 - val_accuracy: 0.7351 - val_loss: 0.5342\n",
            "Epoch 3/50\n",
            "\u001b[1m1778/1778\u001b[0m \u001b[32m━━━━━━━━━━━━━━━━━━━━\u001b[0m\u001b[37m\u001b[0m \u001b[1m8s\u001b[0m 2ms/step - accuracy: 0.7396 - loss: 0.5275 - val_accuracy: 0.7305 - val_loss: 0.5351\n",
            "Epoch 4/50\n",
            "\u001b[1m1778/1778\u001b[0m \u001b[32m━━━━━━━━━━━━━━━━━━━━\u001b[0m\u001b[37m\u001b[0m \u001b[1m6s\u001b[0m 3ms/step - accuracy: 0.7411 - loss: 0.5247 - val_accuracy: 0.7330 - val_loss: 0.5355\n",
            "Epoch 5/50\n",
            "\u001b[1m1778/1778\u001b[0m \u001b[32m━━━━━━━━━━━━━━━━━━━━\u001b[0m\u001b[37m\u001b[0m \u001b[1m9s\u001b[0m 2ms/step - accuracy: 0.7418 - loss: 0.5209 - val_accuracy: 0.7354 - val_loss: 0.5325\n",
            "Epoch 6/50\n",
            "\u001b[1m1778/1778\u001b[0m \u001b[32m━━━━━━━━━━━━━━━━━━━━\u001b[0m\u001b[37m\u001b[0m \u001b[1m8s\u001b[0m 4ms/step - accuracy: 0.7414 - loss: 0.5219 - val_accuracy: 0.7336 - val_loss: 0.5328\n",
            "Epoch 7/50\n",
            "\u001b[1m1778/1778\u001b[0m \u001b[32m━━━━━━━━━━━━━━━━━━━━\u001b[0m\u001b[37m\u001b[0m \u001b[1m4s\u001b[0m 2ms/step - accuracy: 0.7436 - loss: 0.5200 - val_accuracy: 0.7347 - val_loss: 0.5365\n",
            "Epoch 8/50\n",
            "\u001b[1m1778/1778\u001b[0m \u001b[32m━━━━━━━━━━━━━━━━━━━━\u001b[0m\u001b[37m\u001b[0m \u001b[1m4s\u001b[0m 2ms/step - accuracy: 0.7460 - loss: 0.5163 - val_accuracy: 0.7328 - val_loss: 0.5362\n",
            "Epoch 9/50\n",
            "\u001b[1m1778/1778\u001b[0m \u001b[32m━━━━━━━━━━━━━━━━━━━━\u001b[0m\u001b[37m\u001b[0m \u001b[1m7s\u001b[0m 4ms/step - accuracy: 0.7473 - loss: 0.5159 - val_accuracy: 0.7335 - val_loss: 0.5333\n",
            "Epoch 10/50\n",
            "\u001b[1m1778/1778\u001b[0m \u001b[32m━━━━━━━━━━━━━━━━━━━━\u001b[0m\u001b[37m\u001b[0m \u001b[1m4s\u001b[0m 2ms/step - accuracy: 0.7479 - loss: 0.5138 - val_accuracy: 0.7326 - val_loss: 0.5339\n",
            "Epoch 11/50\n",
            "\u001b[1m1778/1778\u001b[0m \u001b[32m━━━━━━━━━━━━━━━━━━━━\u001b[0m\u001b[37m\u001b[0m \u001b[1m4s\u001b[0m 2ms/step - accuracy: 0.7463 - loss: 0.5151 - val_accuracy: 0.7344 - val_loss: 0.5384\n",
            "Epoch 12/50\n",
            "\u001b[1m1778/1778\u001b[0m \u001b[32m━━━━━━━━━━━━━━━━━━━━\u001b[0m\u001b[37m\u001b[0m \u001b[1m7s\u001b[0m 4ms/step - accuracy: 0.7459 - loss: 0.5174 - val_accuracy: 0.7300 - val_loss: 0.5384\n",
            "Epoch 13/50\n",
            "\u001b[1m1778/1778\u001b[0m \u001b[32m━━━━━━━━━━━━━━━━━━━━\u001b[0m\u001b[37m\u001b[0m \u001b[1m4s\u001b[0m 2ms/step - accuracy: 0.7494 - loss: 0.5124 - val_accuracy: 0.7319 - val_loss: 0.5347\n",
            "Epoch 14/50\n",
            "\u001b[1m1778/1778\u001b[0m \u001b[32m━━━━━━━━━━━━━━━━━━━━\u001b[0m\u001b[37m\u001b[0m \u001b[1m4s\u001b[0m 2ms/step - accuracy: 0.7516 - loss: 0.5095 - val_accuracy: 0.7296 - val_loss: 0.5368\n",
            "Epoch 15/50\n",
            "\u001b[1m1778/1778\u001b[0m \u001b[32m━━━━━━━━━━━━━━━━━━━━\u001b[0m\u001b[37m\u001b[0m \u001b[1m7s\u001b[0m 4ms/step - accuracy: 0.7516 - loss: 0.5096 - val_accuracy: 0.7303 - val_loss: 0.5364\n",
            "Epoch 16/50\n",
            "\u001b[1m1778/1778\u001b[0m \u001b[32m━━━━━━━━━━━━━━━━━━━━\u001b[0m\u001b[37m\u001b[0m \u001b[1m8s\u001b[0m 2ms/step - accuracy: 0.7506 - loss: 0.5102 - val_accuracy: 0.7298 - val_loss: 0.5379\n",
            "Epoch 17/50\n",
            "\u001b[1m1778/1778\u001b[0m \u001b[32m━━━━━━━━━━━━━━━━━━━━\u001b[0m\u001b[37m\u001b[0m \u001b[1m6s\u001b[0m 3ms/step - accuracy: 0.7516 - loss: 0.5082 - val_accuracy: 0.7296 - val_loss: 0.5407\n",
            "Epoch 18/50\n",
            "\u001b[1m1778/1778\u001b[0m \u001b[32m━━━━━━━━━━━━━━━━━━━━\u001b[0m\u001b[37m\u001b[0m \u001b[1m8s\u001b[0m 2ms/step - accuracy: 0.7524 - loss: 0.5086 - val_accuracy: 0.7280 - val_loss: 0.5396\n",
            "Epoch 19/50\n",
            "\u001b[1m1778/1778\u001b[0m \u001b[32m━━━━━━━━━━━━━━━━━━━━\u001b[0m\u001b[37m\u001b[0m \u001b[1m7s\u001b[0m 3ms/step - accuracy: 0.7545 - loss: 0.5072 - val_accuracy: 0.7293 - val_loss: 0.5411\n",
            "Epoch 20/50\n",
            "\u001b[1m1778/1778\u001b[0m \u001b[32m━━━━━━━━━━━━━━━━━━━━\u001b[0m\u001b[37m\u001b[0m \u001b[1m8s\u001b[0m 2ms/step - accuracy: 0.7544 - loss: 0.5068 - val_accuracy: 0.7283 - val_loss: 0.5435\n",
            "Epoch 21/50\n",
            "\u001b[1m1778/1778\u001b[0m \u001b[32m━━━━━━━━━━━━━━━━━━━━\u001b[0m\u001b[37m\u001b[0m \u001b[1m7s\u001b[0m 4ms/step - accuracy: 0.7536 - loss: 0.5062 - val_accuracy: 0.7294 - val_loss: 0.5438\n",
            "Epoch 22/50\n",
            "\u001b[1m1778/1778\u001b[0m \u001b[32m━━━━━━━━━━━━━━━━━━━━\u001b[0m\u001b[37m\u001b[0m \u001b[1m8s\u001b[0m 2ms/step - accuracy: 0.7553 - loss: 0.5057 - val_accuracy: 0.7259 - val_loss: 0.5433\n",
            "Epoch 23/50\n",
            "\u001b[1m1778/1778\u001b[0m \u001b[32m━━━━━━━━━━━━━━━━━━━━\u001b[0m\u001b[37m\u001b[0m \u001b[1m6s\u001b[0m 3ms/step - accuracy: 0.7583 - loss: 0.5023 - val_accuracy: 0.7282 - val_loss: 0.5444\n",
            "Epoch 24/50\n",
            "\u001b[1m1778/1778\u001b[0m \u001b[32m━━━━━━━━━━━━━━━━━━━━\u001b[0m\u001b[37m\u001b[0m \u001b[1m4s\u001b[0m 2ms/step - accuracy: 0.7584 - loss: 0.4995 - val_accuracy: 0.7259 - val_loss: 0.5451\n",
            "Epoch 25/50\n",
            "\u001b[1m1778/1778\u001b[0m \u001b[32m━━━━━━━━━━━━━━━━━━━━\u001b[0m\u001b[37m\u001b[0m \u001b[1m5s\u001b[0m 2ms/step - accuracy: 0.7574 - loss: 0.5025 - val_accuracy: 0.7270 - val_loss: 0.5476\n",
            "Epoch 26/50\n",
            "\u001b[1m1778/1778\u001b[0m \u001b[32m━━━━━━━━━━━━━━━━━━━━\u001b[0m\u001b[37m\u001b[0m \u001b[1m7s\u001b[0m 4ms/step - accuracy: 0.7602 - loss: 0.4984 - val_accuracy: 0.7240 - val_loss: 0.5468\n",
            "Epoch 27/50\n",
            "\u001b[1m1778/1778\u001b[0m \u001b[32m━━━━━━━━━━━━━━━━━━━━\u001b[0m\u001b[37m\u001b[0m \u001b[1m4s\u001b[0m 2ms/step - accuracy: 0.7598 - loss: 0.4991 - val_accuracy: 0.7250 - val_loss: 0.5485\n",
            "Epoch 28/50\n",
            "\u001b[1m1778/1778\u001b[0m \u001b[32m━━━━━━━━━━━━━━━━━━━━\u001b[0m\u001b[37m\u001b[0m \u001b[1m4s\u001b[0m 2ms/step - accuracy: 0.7615 - loss: 0.4974 - val_accuracy: 0.7217 - val_loss: 0.5484\n",
            "Epoch 29/50\n",
            "\u001b[1m1778/1778\u001b[0m \u001b[32m━━━━━━━━━━━━━━━━━━━━\u001b[0m\u001b[37m\u001b[0m \u001b[1m7s\u001b[0m 4ms/step - accuracy: 0.7603 - loss: 0.4991 - val_accuracy: 0.7250 - val_loss: 0.5501\n",
            "Epoch 30/50\n",
            "\u001b[1m1778/1778\u001b[0m \u001b[32m━━━━━━━━━━━━━━━━━━━━\u001b[0m\u001b[37m\u001b[0m \u001b[1m4s\u001b[0m 2ms/step - accuracy: 0.7650 - loss: 0.4925 - val_accuracy: 0.7240 - val_loss: 0.5500\n",
            "Epoch 31/50\n",
            "\u001b[1m1778/1778\u001b[0m \u001b[32m━━━━━━━━━━━━━━━━━━━━\u001b[0m\u001b[37m\u001b[0m \u001b[1m5s\u001b[0m 2ms/step - accuracy: 0.7627 - loss: 0.4963 - val_accuracy: 0.7256 - val_loss: 0.5550\n",
            "Epoch 32/50\n",
            "\u001b[1m1778/1778\u001b[0m \u001b[32m━━━━━━━━━━━━━━━━━━━━\u001b[0m\u001b[37m\u001b[0m \u001b[1m6s\u001b[0m 4ms/step - accuracy: 0.7636 - loss: 0.4954 - val_accuracy: 0.7240 - val_loss: 0.5509\n",
            "Epoch 33/50\n",
            "\u001b[1m1778/1778\u001b[0m \u001b[32m━━━━━━━━━━━━━━━━━━━━\u001b[0m\u001b[37m\u001b[0m \u001b[1m4s\u001b[0m 2ms/step - accuracy: 0.7636 - loss: 0.4952 - val_accuracy: 0.7197 - val_loss: 0.5536\n",
            "Epoch 34/50\n",
            "\u001b[1m1778/1778\u001b[0m \u001b[32m━━━━━━━━━━━━━━━━━━━━\u001b[0m\u001b[37m\u001b[0m \u001b[1m4s\u001b[0m 2ms/step - accuracy: 0.7629 - loss: 0.4948 - val_accuracy: 0.7198 - val_loss: 0.5561\n",
            "Epoch 35/50\n",
            "\u001b[1m1778/1778\u001b[0m \u001b[32m━━━━━━━━━━━━━━━━━━━━\u001b[0m\u001b[37m\u001b[0m \u001b[1m7s\u001b[0m 4ms/step - accuracy: 0.7651 - loss: 0.4918 - val_accuracy: 0.7223 - val_loss: 0.5534\n",
            "Epoch 36/50\n",
            "\u001b[1m1778/1778\u001b[0m \u001b[32m━━━━━━━━━━━━━━━━━━━━\u001b[0m\u001b[37m\u001b[0m \u001b[1m8s\u001b[0m 3ms/step - accuracy: 0.7677 - loss: 0.4887 - val_accuracy: 0.7218 - val_loss: 0.5577\n",
            "Epoch 37/50\n",
            "\u001b[1m1778/1778\u001b[0m \u001b[32m━━━━━━━━━━━━━━━━━━━━\u001b[0m\u001b[37m\u001b[0m \u001b[1m7s\u001b[0m 4ms/step - accuracy: 0.7651 - loss: 0.4915 - val_accuracy: 0.7212 - val_loss: 0.5530\n",
            "Epoch 38/50\n",
            "\u001b[1m1778/1778\u001b[0m \u001b[32m━━━━━━━━━━━━━━━━━━━━\u001b[0m\u001b[37m\u001b[0m \u001b[1m8s\u001b[0m 3ms/step - accuracy: 0.7669 - loss: 0.4919 - val_accuracy: 0.7221 - val_loss: 0.5561\n",
            "Epoch 39/50\n",
            "\u001b[1m1778/1778\u001b[0m \u001b[32m━━━━━━━━━━━━━━━━━━━━\u001b[0m\u001b[37m\u001b[0m \u001b[1m7s\u001b[0m 4ms/step - accuracy: 0.7650 - loss: 0.4924 - val_accuracy: 0.7232 - val_loss: 0.5552\n",
            "Epoch 40/50\n",
            "\u001b[1m1778/1778\u001b[0m \u001b[32m━━━━━━━━━━━━━━━━━━━━\u001b[0m\u001b[37m\u001b[0m \u001b[1m4s\u001b[0m 2ms/step - accuracy: 0.7692 - loss: 0.4892 - val_accuracy: 0.7229 - val_loss: 0.5581\n",
            "Epoch 41/50\n",
            "\u001b[1m1778/1778\u001b[0m \u001b[32m━━━━━━━━━━━━━━━━━━━━\u001b[0m\u001b[37m\u001b[0m \u001b[1m4s\u001b[0m 2ms/step - accuracy: 0.7658 - loss: 0.4933 - val_accuracy: 0.7223 - val_loss: 0.5603\n",
            "Epoch 42/50\n",
            "\u001b[1m1778/1778\u001b[0m \u001b[32m━━━━━━━━━━━━━━━━━━━━\u001b[0m\u001b[37m\u001b[0m \u001b[1m8s\u001b[0m 4ms/step - accuracy: 0.7682 - loss: 0.4893 - val_accuracy: 0.7220 - val_loss: 0.5609\n",
            "Epoch 43/50\n",
            "\u001b[1m1778/1778\u001b[0m \u001b[32m━━━━━━━━━━━━━━━━━━━━\u001b[0m\u001b[37m\u001b[0m \u001b[1m8s\u001b[0m 2ms/step - accuracy: 0.7701 - loss: 0.4862 - val_accuracy: 0.7212 - val_loss: 0.5606\n",
            "Epoch 44/50\n",
            "\u001b[1m1778/1778\u001b[0m \u001b[32m━━━━━━━━━━━━━━━━━━━━\u001b[0m\u001b[37m\u001b[0m \u001b[1m8s\u001b[0m 4ms/step - accuracy: 0.7711 - loss: 0.4857 - val_accuracy: 0.7158 - val_loss: 0.5605\n",
            "Epoch 45/50\n",
            "\u001b[1m1778/1778\u001b[0m \u001b[32m━━━━━━━━━━━━━━━━━━━━\u001b[0m\u001b[37m\u001b[0m \u001b[1m4s\u001b[0m 2ms/step - accuracy: 0.7714 - loss: 0.4860 - val_accuracy: 0.7205 - val_loss: 0.5622\n",
            "Epoch 46/50\n",
            "\u001b[1m1778/1778\u001b[0m \u001b[32m━━━━━━━━━━━━━━━━━━━━\u001b[0m\u001b[37m\u001b[0m \u001b[1m4s\u001b[0m 2ms/step - accuracy: 0.7721 - loss: 0.4840 - val_accuracy: 0.7185 - val_loss: 0.5675\n",
            "Epoch 47/50\n",
            "\u001b[1m1778/1778\u001b[0m \u001b[32m━━━━━━━━━━━━━━━━━━━━\u001b[0m\u001b[37m\u001b[0m \u001b[1m6s\u001b[0m 4ms/step - accuracy: 0.7690 - loss: 0.4893 - val_accuracy: 0.7180 - val_loss: 0.5658\n",
            "Epoch 48/50\n",
            "\u001b[1m1778/1778\u001b[0m \u001b[32m━━━━━━━━━━━━━━━━━━━━\u001b[0m\u001b[37m\u001b[0m \u001b[1m4s\u001b[0m 2ms/step - accuracy: 0.7738 - loss: 0.4833 - val_accuracy: 0.7167 - val_loss: 0.5647\n",
            "Epoch 49/50\n",
            "\u001b[1m1778/1778\u001b[0m \u001b[32m━━━━━━━━━━━━━━━━━━━━\u001b[0m\u001b[37m\u001b[0m \u001b[1m4s\u001b[0m 2ms/step - accuracy: 0.7698 - loss: 0.4854 - val_accuracy: 0.7184 - val_loss: 0.5617\n",
            "Epoch 50/50\n",
            "\u001b[1m1778/1778\u001b[0m \u001b[32m━━━━━━━━━━━━━━━━━━━━\u001b[0m\u001b[37m\u001b[0m \u001b[1m7s\u001b[0m 4ms/step - accuracy: 0.7724 - loss: 0.4829 - val_accuracy: 0.7171 - val_loss: 0.5704\n"
          ]
        },
        {
          "output_type": "execute_result",
          "data": {
            "text/plain": [
              "<keras.src.callbacks.history.History at 0x7ddaa046d360>"
            ]
          },
          "metadata": {},
          "execution_count": 62
        }
      ]
    },
    {
      "cell_type": "markdown",
      "source": [
        "## Presición del modelo"
      ],
      "metadata": {
        "id": "EiviE8DbeVsI"
      }
    },
    {
      "cell_type": "code",
      "source": [
        "loss, acc = modelo_1.evaluate(X_test, y_test)\n",
        "print(acc*100)"
      ],
      "metadata": {
        "id": "8e6jYs_iq-S5",
        "colab": {
          "base_uri": "https://localhost:8080/"
        },
        "outputId": "fa0639af-8fb6-4d32-f308-d4946db3b61b"
      },
      "execution_count": 63,
      "outputs": [
        {
          "output_type": "stream",
          "name": "stdout",
          "text": [
            "\u001b[1m889/889\u001b[0m \u001b[32m━━━━━━━━━━━━━━━━━━━━\u001b[0m\u001b[37m\u001b[0m \u001b[1m1s\u001b[0m 1ms/step - accuracy: 0.7199 - loss: 0.5667\n",
            "71.7058777809143\n"
          ]
        }
      ]
    },
    {
      "cell_type": "markdown",
      "source": [
        "## Realizar predicciones"
      ],
      "metadata": {
        "id": "PWAm5U8IeZDc"
      }
    },
    {
      "cell_type": "code",
      "source": [
        "dato.loc[0,'Lect_Periodos_Lectura_Semana'] = '5 Períodos'\n",
        "dato.loc[0,'Mate_Periodos_Matematicas_Semana'] = 'Seis periodos'\n",
        "dato.loc[0,'Computadora'] = 'Si'\n",
        "dato.loc[0,'Sc_Servicio_Internet'] = 'Si'\n",
        "dato.loc[0,'Sexo_RECO'] = 'Femenino'\n",
        "dato.loc[0,'Edad_RECO'] = '17 años'\n",
        "dato.loc[0,'Lect_Libros_Completos_Ha_Leido'] = 'Más de seis libros'\n",
        "dato.loc[0,'Ed_Repitio_Algun_Grado'] = 'No'\n",
        "dato.loc[0,'Fm_Grado_Alcanzo_Papa_RECO'] = 'Diversificado'\n",
        "dato.loc[0,'Fm_Grado_Alcanzo_Mama_RECO'] = 'Diversificado'\n",
        "dato.loc[0,'Cod_Sector'] = 'Privado'\n",
        "dato.loc[0,'Cod_Area'] = 'Urbana'\n",
        "dato.loc[0,'Cod_Region'] = 'Región 5 o Central'\n",
        "\n",
        "dato_onehot = pd.get_dummies(dato)\n",
        "p = modelo_1.predict(dato_onehot)\n",
        "p = pd.DataFrame(p, columns=['Logro', 'No Logro'])\n",
        "p"
      ],
      "metadata": {
        "id": "EVvA1LcFrE_a",
        "colab": {
          "base_uri": "https://localhost:8080/",
          "height": 106
        },
        "outputId": "10231c62-1ee1-4fe2-ed3b-5c9364695e34"
      },
      "execution_count": 79,
      "outputs": [
        {
          "output_type": "stream",
          "name": "stdout",
          "text": [
            "\u001b[1m1/1\u001b[0m \u001b[32m━━━━━━━━━━━━━━━━━━━━\u001b[0m\u001b[37m\u001b[0m \u001b[1m0s\u001b[0m 32ms/step\n"
          ]
        },
        {
          "output_type": "execute_result",
          "data": {
            "text/plain": [
              "      Logro  No Logro\n",
              "0  0.821831  0.178299"
            ],
            "text/html": [
              "\n",
              "  <div id=\"df-142bb8ca-4dba-41da-800c-16030efefdd8\" class=\"colab-df-container\">\n",
              "    <div>\n",
              "<style scoped>\n",
              "    .dataframe tbody tr th:only-of-type {\n",
              "        vertical-align: middle;\n",
              "    }\n",
              "\n",
              "    .dataframe tbody tr th {\n",
              "        vertical-align: top;\n",
              "    }\n",
              "\n",
              "    .dataframe thead th {\n",
              "        text-align: right;\n",
              "    }\n",
              "</style>\n",
              "<table border=\"1\" class=\"dataframe\">\n",
              "  <thead>\n",
              "    <tr style=\"text-align: right;\">\n",
              "      <th></th>\n",
              "      <th>Logro</th>\n",
              "      <th>No Logro</th>\n",
              "    </tr>\n",
              "  </thead>\n",
              "  <tbody>\n",
              "    <tr>\n",
              "      <th>0</th>\n",
              "      <td>0.821831</td>\n",
              "      <td>0.178299</td>\n",
              "    </tr>\n",
              "  </tbody>\n",
              "</table>\n",
              "</div>\n",
              "    <div class=\"colab-df-buttons\">\n",
              "\n",
              "  <div class=\"colab-df-container\">\n",
              "    <button class=\"colab-df-convert\" onclick=\"convertToInteractive('df-142bb8ca-4dba-41da-800c-16030efefdd8')\"\n",
              "            title=\"Convert this dataframe to an interactive table.\"\n",
              "            style=\"display:none;\">\n",
              "\n",
              "  <svg xmlns=\"http://www.w3.org/2000/svg\" height=\"24px\" viewBox=\"0 -960 960 960\">\n",
              "    <path d=\"M120-120v-720h720v720H120Zm60-500h600v-160H180v160Zm220 220h160v-160H400v160Zm0 220h160v-160H400v160ZM180-400h160v-160H180v160Zm440 0h160v-160H620v160ZM180-180h160v-160H180v160Zm440 0h160v-160H620v160Z\"/>\n",
              "  </svg>\n",
              "    </button>\n",
              "\n",
              "  <style>\n",
              "    .colab-df-container {\n",
              "      display:flex;\n",
              "      gap: 12px;\n",
              "    }\n",
              "\n",
              "    .colab-df-convert {\n",
              "      background-color: #E8F0FE;\n",
              "      border: none;\n",
              "      border-radius: 50%;\n",
              "      cursor: pointer;\n",
              "      display: none;\n",
              "      fill: #1967D2;\n",
              "      height: 32px;\n",
              "      padding: 0 0 0 0;\n",
              "      width: 32px;\n",
              "    }\n",
              "\n",
              "    .colab-df-convert:hover {\n",
              "      background-color: #E2EBFA;\n",
              "      box-shadow: 0px 1px 2px rgba(60, 64, 67, 0.3), 0px 1px 3px 1px rgba(60, 64, 67, 0.15);\n",
              "      fill: #174EA6;\n",
              "    }\n",
              "\n",
              "    .colab-df-buttons div {\n",
              "      margin-bottom: 4px;\n",
              "    }\n",
              "\n",
              "    [theme=dark] .colab-df-convert {\n",
              "      background-color: #3B4455;\n",
              "      fill: #D2E3FC;\n",
              "    }\n",
              "\n",
              "    [theme=dark] .colab-df-convert:hover {\n",
              "      background-color: #434B5C;\n",
              "      box-shadow: 0px 1px 3px 1px rgba(0, 0, 0, 0.15);\n",
              "      filter: drop-shadow(0px 1px 2px rgba(0, 0, 0, 0.3));\n",
              "      fill: #FFFFFF;\n",
              "    }\n",
              "  </style>\n",
              "\n",
              "    <script>\n",
              "      const buttonEl =\n",
              "        document.querySelector('#df-142bb8ca-4dba-41da-800c-16030efefdd8 button.colab-df-convert');\n",
              "      buttonEl.style.display =\n",
              "        google.colab.kernel.accessAllowed ? 'block' : 'none';\n",
              "\n",
              "      async function convertToInteractive(key) {\n",
              "        const element = document.querySelector('#df-142bb8ca-4dba-41da-800c-16030efefdd8');\n",
              "        const dataTable =\n",
              "          await google.colab.kernel.invokeFunction('convertToInteractive',\n",
              "                                                    [key], {});\n",
              "        if (!dataTable) return;\n",
              "\n",
              "        const docLinkHtml = 'Like what you see? Visit the ' +\n",
              "          '<a target=\"_blank\" href=https://colab.research.google.com/notebooks/data_table.ipynb>data table notebook</a>'\n",
              "          + ' to learn more about interactive tables.';\n",
              "        element.innerHTML = '';\n",
              "        dataTable['output_type'] = 'display_data';\n",
              "        await google.colab.output.renderOutput(dataTable, element);\n",
              "        const docLink = document.createElement('div');\n",
              "        docLink.innerHTML = docLinkHtml;\n",
              "        element.appendChild(docLink);\n",
              "      }\n",
              "    </script>\n",
              "  </div>\n",
              "\n",
              "\n",
              "  <div id=\"id_15e4f733-2e70-4dc6-8567-fc46860adfe4\">\n",
              "    <style>\n",
              "      .colab-df-generate {\n",
              "        background-color: #E8F0FE;\n",
              "        border: none;\n",
              "        border-radius: 50%;\n",
              "        cursor: pointer;\n",
              "        display: none;\n",
              "        fill: #1967D2;\n",
              "        height: 32px;\n",
              "        padding: 0 0 0 0;\n",
              "        width: 32px;\n",
              "      }\n",
              "\n",
              "      .colab-df-generate:hover {\n",
              "        background-color: #E2EBFA;\n",
              "        box-shadow: 0px 1px 2px rgba(60, 64, 67, 0.3), 0px 1px 3px 1px rgba(60, 64, 67, 0.15);\n",
              "        fill: #174EA6;\n",
              "      }\n",
              "\n",
              "      [theme=dark] .colab-df-generate {\n",
              "        background-color: #3B4455;\n",
              "        fill: #D2E3FC;\n",
              "      }\n",
              "\n",
              "      [theme=dark] .colab-df-generate:hover {\n",
              "        background-color: #434B5C;\n",
              "        box-shadow: 0px 1px 3px 1px rgba(0, 0, 0, 0.15);\n",
              "        filter: drop-shadow(0px 1px 2px rgba(0, 0, 0, 0.3));\n",
              "        fill: #FFFFFF;\n",
              "      }\n",
              "    </style>\n",
              "    <button class=\"colab-df-generate\" onclick=\"generateWithVariable('p')\"\n",
              "            title=\"Generate code using this dataframe.\"\n",
              "            style=\"display:none;\">\n",
              "\n",
              "  <svg xmlns=\"http://www.w3.org/2000/svg\" height=\"24px\"viewBox=\"0 0 24 24\"\n",
              "       width=\"24px\">\n",
              "    <path d=\"M7,19H8.4L18.45,9,17,7.55,7,17.6ZM5,21V16.75L18.45,3.32a2,2,0,0,1,2.83,0l1.4,1.43a1.91,1.91,0,0,1,.58,1.4,1.91,1.91,0,0,1-.58,1.4L9.25,21ZM18.45,9,17,7.55Zm-12,3A5.31,5.31,0,0,0,4.9,8.1,5.31,5.31,0,0,0,1,6.5,5.31,5.31,0,0,0,4.9,4.9,5.31,5.31,0,0,0,6.5,1,5.31,5.31,0,0,0,8.1,4.9,5.31,5.31,0,0,0,12,6.5,5.46,5.46,0,0,0,6.5,12Z\"/>\n",
              "  </svg>\n",
              "    </button>\n",
              "    <script>\n",
              "      (() => {\n",
              "      const buttonEl =\n",
              "        document.querySelector('#id_15e4f733-2e70-4dc6-8567-fc46860adfe4 button.colab-df-generate');\n",
              "      buttonEl.style.display =\n",
              "        google.colab.kernel.accessAllowed ? 'block' : 'none';\n",
              "\n",
              "      buttonEl.onclick = () => {\n",
              "        google.colab.notebook.generateWithVariable('p');\n",
              "      }\n",
              "      })();\n",
              "    </script>\n",
              "  </div>\n",
              "\n",
              "    </div>\n",
              "  </div>\n"
            ],
            "application/vnd.google.colaboratory.intrinsic+json": {
              "type": "dataframe",
              "variable_name": "p",
              "summary": "{\n  \"name\": \"p\",\n  \"rows\": 1,\n  \"fields\": [\n    {\n      \"column\": \"Logro\",\n      \"properties\": {\n        \"dtype\": \"float32\",\n        \"num_unique_values\": 1,\n        \"samples\": [\n          0.8218309283256531\n        ],\n        \"semantic_type\": \"\",\n        \"description\": \"\"\n      }\n    },\n    {\n      \"column\": \"No Logro\",\n      \"properties\": {\n        \"dtype\": \"float32\",\n        \"num_unique_values\": 1,\n        \"samples\": [\n          0.17829927802085876\n        ],\n        \"semantic_type\": \"\",\n        \"description\": \"\"\n      }\n    }\n  ]\n}"
            }
          },
          "metadata": {},
          "execution_count": 79
        }
      ]
    },
    {
      "cell_type": "code",
      "source": [
        "dato.loc[0,'Lect_Periodos_Lectura_Semana'] = '5 Períodos'\n",
        "dato.loc[0,'Mate_Periodos_Matematicas_Semana'] = 'Cinco periodos'\n",
        "dato.loc[0,'Computadora'] = 'Si'\n",
        "dato.loc[0,'Sc_Servicio_Internet'] = 'Si'\n",
        "dato.loc[0,'Sexo_RECO'] = 'Masculino'\n",
        "dato.loc[0,'Edad_RECO'] = '16 años o Menos'\n",
        "dato.loc[0,'Lect_Libros_Completos_Ha_Leido'] = 'Dos libros'\n",
        "dato.loc[0,'Ed_Repitio_Algun_Grado'] = 'No'\n",
        "dato.loc[0,'Fm_Grado_Alcanzo_Papa_RECO'] = 'Diversificado'\n",
        "dato.loc[0,'Fm_Grado_Alcanzo_Mama_RECO'] = 'Universidad o más'\n",
        "dato.loc[0,'Cod_Sector'] = 'Privado'\n",
        "dato.loc[0,'Cod_Area'] = 'Urbana'\n",
        "dato.loc[0,'Cod_Region'] = 'Región 4 o Suroriental'\n",
        "\n",
        "dato_onehot = pd.get_dummies(dato)\n",
        "p = modelo_1.predict(dato_onehot)\n",
        "p = pd.DataFrame(p, columns=['Logro', 'No Logro'])\n",
        "p"
      ],
      "metadata": {
        "colab": {
          "base_uri": "https://localhost:8080/",
          "height": 106
        },
        "id": "s90k3TfAt8Gm",
        "outputId": "944461f5-6295-49db-8d14-13e898a94f82"
      },
      "execution_count": 85,
      "outputs": [
        {
          "output_type": "stream",
          "name": "stdout",
          "text": [
            "\u001b[1m1/1\u001b[0m \u001b[32m━━━━━━━━━━━━━━━━━━━━\u001b[0m\u001b[37m\u001b[0m \u001b[1m0s\u001b[0m 23ms/step\n"
          ]
        },
        {
          "output_type": "execute_result",
          "data": {
            "text/plain": [
              "     Logro  No Logro\n",
              "0  0.70203  0.298108"
            ],
            "text/html": [
              "\n",
              "  <div id=\"df-8cfd5b05-834e-4b01-b972-c898808c310b\" class=\"colab-df-container\">\n",
              "    <div>\n",
              "<style scoped>\n",
              "    .dataframe tbody tr th:only-of-type {\n",
              "        vertical-align: middle;\n",
              "    }\n",
              "\n",
              "    .dataframe tbody tr th {\n",
              "        vertical-align: top;\n",
              "    }\n",
              "\n",
              "    .dataframe thead th {\n",
              "        text-align: right;\n",
              "    }\n",
              "</style>\n",
              "<table border=\"1\" class=\"dataframe\">\n",
              "  <thead>\n",
              "    <tr style=\"text-align: right;\">\n",
              "      <th></th>\n",
              "      <th>Logro</th>\n",
              "      <th>No Logro</th>\n",
              "    </tr>\n",
              "  </thead>\n",
              "  <tbody>\n",
              "    <tr>\n",
              "      <th>0</th>\n",
              "      <td>0.70203</td>\n",
              "      <td>0.298108</td>\n",
              "    </tr>\n",
              "  </tbody>\n",
              "</table>\n",
              "</div>\n",
              "    <div class=\"colab-df-buttons\">\n",
              "\n",
              "  <div class=\"colab-df-container\">\n",
              "    <button class=\"colab-df-convert\" onclick=\"convertToInteractive('df-8cfd5b05-834e-4b01-b972-c898808c310b')\"\n",
              "            title=\"Convert this dataframe to an interactive table.\"\n",
              "            style=\"display:none;\">\n",
              "\n",
              "  <svg xmlns=\"http://www.w3.org/2000/svg\" height=\"24px\" viewBox=\"0 -960 960 960\">\n",
              "    <path d=\"M120-120v-720h720v720H120Zm60-500h600v-160H180v160Zm220 220h160v-160H400v160Zm0 220h160v-160H400v160ZM180-400h160v-160H180v160Zm440 0h160v-160H620v160ZM180-180h160v-160H180v160Zm440 0h160v-160H620v160Z\"/>\n",
              "  </svg>\n",
              "    </button>\n",
              "\n",
              "  <style>\n",
              "    .colab-df-container {\n",
              "      display:flex;\n",
              "      gap: 12px;\n",
              "    }\n",
              "\n",
              "    .colab-df-convert {\n",
              "      background-color: #E8F0FE;\n",
              "      border: none;\n",
              "      border-radius: 50%;\n",
              "      cursor: pointer;\n",
              "      display: none;\n",
              "      fill: #1967D2;\n",
              "      height: 32px;\n",
              "      padding: 0 0 0 0;\n",
              "      width: 32px;\n",
              "    }\n",
              "\n",
              "    .colab-df-convert:hover {\n",
              "      background-color: #E2EBFA;\n",
              "      box-shadow: 0px 1px 2px rgba(60, 64, 67, 0.3), 0px 1px 3px 1px rgba(60, 64, 67, 0.15);\n",
              "      fill: #174EA6;\n",
              "    }\n",
              "\n",
              "    .colab-df-buttons div {\n",
              "      margin-bottom: 4px;\n",
              "    }\n",
              "\n",
              "    [theme=dark] .colab-df-convert {\n",
              "      background-color: #3B4455;\n",
              "      fill: #D2E3FC;\n",
              "    }\n",
              "\n",
              "    [theme=dark] .colab-df-convert:hover {\n",
              "      background-color: #434B5C;\n",
              "      box-shadow: 0px 1px 3px 1px rgba(0, 0, 0, 0.15);\n",
              "      filter: drop-shadow(0px 1px 2px rgba(0, 0, 0, 0.3));\n",
              "      fill: #FFFFFF;\n",
              "    }\n",
              "  </style>\n",
              "\n",
              "    <script>\n",
              "      const buttonEl =\n",
              "        document.querySelector('#df-8cfd5b05-834e-4b01-b972-c898808c310b button.colab-df-convert');\n",
              "      buttonEl.style.display =\n",
              "        google.colab.kernel.accessAllowed ? 'block' : 'none';\n",
              "\n",
              "      async function convertToInteractive(key) {\n",
              "        const element = document.querySelector('#df-8cfd5b05-834e-4b01-b972-c898808c310b');\n",
              "        const dataTable =\n",
              "          await google.colab.kernel.invokeFunction('convertToInteractive',\n",
              "                                                    [key], {});\n",
              "        if (!dataTable) return;\n",
              "\n",
              "        const docLinkHtml = 'Like what you see? Visit the ' +\n",
              "          '<a target=\"_blank\" href=https://colab.research.google.com/notebooks/data_table.ipynb>data table notebook</a>'\n",
              "          + ' to learn more about interactive tables.';\n",
              "        element.innerHTML = '';\n",
              "        dataTable['output_type'] = 'display_data';\n",
              "        await google.colab.output.renderOutput(dataTable, element);\n",
              "        const docLink = document.createElement('div');\n",
              "        docLink.innerHTML = docLinkHtml;\n",
              "        element.appendChild(docLink);\n",
              "      }\n",
              "    </script>\n",
              "  </div>\n",
              "\n",
              "\n",
              "  <div id=\"id_19259240-0043-41d6-a3e0-b226a198b188\">\n",
              "    <style>\n",
              "      .colab-df-generate {\n",
              "        background-color: #E8F0FE;\n",
              "        border: none;\n",
              "        border-radius: 50%;\n",
              "        cursor: pointer;\n",
              "        display: none;\n",
              "        fill: #1967D2;\n",
              "        height: 32px;\n",
              "        padding: 0 0 0 0;\n",
              "        width: 32px;\n",
              "      }\n",
              "\n",
              "      .colab-df-generate:hover {\n",
              "        background-color: #E2EBFA;\n",
              "        box-shadow: 0px 1px 2px rgba(60, 64, 67, 0.3), 0px 1px 3px 1px rgba(60, 64, 67, 0.15);\n",
              "        fill: #174EA6;\n",
              "      }\n",
              "\n",
              "      [theme=dark] .colab-df-generate {\n",
              "        background-color: #3B4455;\n",
              "        fill: #D2E3FC;\n",
              "      }\n",
              "\n",
              "      [theme=dark] .colab-df-generate:hover {\n",
              "        background-color: #434B5C;\n",
              "        box-shadow: 0px 1px 3px 1px rgba(0, 0, 0, 0.15);\n",
              "        filter: drop-shadow(0px 1px 2px rgba(0, 0, 0, 0.3));\n",
              "        fill: #FFFFFF;\n",
              "      }\n",
              "    </style>\n",
              "    <button class=\"colab-df-generate\" onclick=\"generateWithVariable('p')\"\n",
              "            title=\"Generate code using this dataframe.\"\n",
              "            style=\"display:none;\">\n",
              "\n",
              "  <svg xmlns=\"http://www.w3.org/2000/svg\" height=\"24px\"viewBox=\"0 0 24 24\"\n",
              "       width=\"24px\">\n",
              "    <path d=\"M7,19H8.4L18.45,9,17,7.55,7,17.6ZM5,21V16.75L18.45,3.32a2,2,0,0,1,2.83,0l1.4,1.43a1.91,1.91,0,0,1,.58,1.4,1.91,1.91,0,0,1-.58,1.4L9.25,21ZM18.45,9,17,7.55Zm-12,3A5.31,5.31,0,0,0,4.9,8.1,5.31,5.31,0,0,0,1,6.5,5.31,5.31,0,0,0,4.9,4.9,5.31,5.31,0,0,0,6.5,1,5.31,5.31,0,0,0,8.1,4.9,5.31,5.31,0,0,0,12,6.5,5.46,5.46,0,0,0,6.5,12Z\"/>\n",
              "  </svg>\n",
              "    </button>\n",
              "    <script>\n",
              "      (() => {\n",
              "      const buttonEl =\n",
              "        document.querySelector('#id_19259240-0043-41d6-a3e0-b226a198b188 button.colab-df-generate');\n",
              "      buttonEl.style.display =\n",
              "        google.colab.kernel.accessAllowed ? 'block' : 'none';\n",
              "\n",
              "      buttonEl.onclick = () => {\n",
              "        google.colab.notebook.generateWithVariable('p');\n",
              "      }\n",
              "      })();\n",
              "    </script>\n",
              "  </div>\n",
              "\n",
              "    </div>\n",
              "  </div>\n"
            ],
            "application/vnd.google.colaboratory.intrinsic+json": {
              "type": "dataframe",
              "variable_name": "p",
              "summary": "{\n  \"name\": \"p\",\n  \"rows\": 1,\n  \"fields\": [\n    {\n      \"column\": \"Logro\",\n      \"properties\": {\n        \"dtype\": \"float32\",\n        \"num_unique_values\": 1,\n        \"samples\": [\n          0.7020295858383179\n        ],\n        \"semantic_type\": \"\",\n        \"description\": \"\"\n      }\n    },\n    {\n      \"column\": \"No Logro\",\n      \"properties\": {\n        \"dtype\": \"float32\",\n        \"num_unique_values\": 1,\n        \"samples\": [\n          0.2981075942516327\n        ],\n        \"semantic_type\": \"\",\n        \"description\": \"\"\n      }\n    }\n  ]\n}"
            }
          },
          "metadata": {},
          "execution_count": 85
        }
      ]
    },
    {
      "cell_type": "markdown",
      "source": [
        "# Predicción de logro en matemáticas"
      ],
      "metadata": {
        "id": "DaJNc7rverPd"
      }
    },
    {
      "cell_type": "markdown",
      "source": [
        "## Datos de entrenamiento"
      ],
      "metadata": {
        "id": "juIvTLDTeyD0"
      }
    },
    {
      "cell_type": "code",
      "source": [
        "x = df.drop(columns=['Logro_Lect', 'Logro_Mate'], axis=1)\n",
        "dato = x.head(1)\n",
        "x = pd.get_dummies(x)\n",
        "y = df['Logro_Mate']\n",
        "y = pd.get_dummies(y)"
      ],
      "metadata": {
        "id": "5jU1F4r0eyD3"
      },
      "execution_count": 5,
      "outputs": []
    },
    {
      "cell_type": "code",
      "source": [
        "X_train, X_test, y_train, y_test  = train_test_split(x, y,\n",
        "                                                     test_size = 0.2,\n",
        "                                                     random_state = 42)"
      ],
      "metadata": {
        "id": "rmrplOBzeyD4"
      },
      "execution_count": 6,
      "outputs": []
    },
    {
      "cell_type": "markdown",
      "source": [
        "## Construcción del modelo y entrenamiento"
      ],
      "metadata": {
        "id": "YdCdmIiVeyD9"
      }
    },
    {
      "cell_type": "code",
      "source": [
        "X_train.shape"
      ],
      "metadata": {
        "colab": {
          "base_uri": "https://localhost:8080/"
        },
        "outputId": "7976d68b-5aa5-4942-b715-31c9729c97af",
        "id": "gZIeXs38eyD-"
      },
      "execution_count": 7,
      "outputs": [
        {
          "output_type": "execute_result",
          "data": {
            "text/plain": [
              "(113745, 62)"
            ]
          },
          "metadata": {},
          "execution_count": 7
        }
      ]
    },
    {
      "cell_type": "code",
      "source": [
        "modelo_2 = Sequential()\n",
        "modelo_2.add(Dense(62, input_dim = 62, activation = 'relu'))\n",
        "modelo_2.add(Dense(32, activation='relu'))\n",
        "modelo_2.add(Dense(16, activation='relu'))\n",
        "modelo_2.add(Dense(8, activation='relu'))\n",
        "modelo_2.add(Dense(2, activation='sigmoid'))"
      ],
      "metadata": {
        "colab": {
          "base_uri": "https://localhost:8080/"
        },
        "outputId": "19237a54-5d7c-43cf-c88e-dd16a82bbb9e",
        "id": "HlyP2p_NeyEA"
      },
      "execution_count": 8,
      "outputs": [
        {
          "output_type": "stream",
          "name": "stderr",
          "text": [
            "/usr/local/lib/python3.10/dist-packages/keras/src/layers/core/dense.py:87: UserWarning: Do not pass an `input_shape`/`input_dim` argument to a layer. When using Sequential models, prefer using an `Input(shape)` object as the first layer in the model instead.\n",
            "  super().__init__(activity_regularizer=activity_regularizer, **kwargs)\n"
          ]
        }
      ]
    },
    {
      "cell_type": "code",
      "source": [
        "modelo_2.compile(loss ='binary_crossentropy',\n",
        "              optimizer ='adam', metrics =['accuracy'])"
      ],
      "metadata": {
        "id": "rkPGNu7OeyEC"
      },
      "execution_count": 9,
      "outputs": []
    },
    {
      "cell_type": "code",
      "source": [
        "modelo_2.fit(X_train, y_train, epochs = 50,\n",
        "          batch_size = 64, validation_data=(X_test, y_test))"
      ],
      "metadata": {
        "colab": {
          "base_uri": "https://localhost:8080/"
        },
        "outputId": "5437485b-dfd3-46e4-b617-f17ef3f7c537",
        "id": "Y9lQ5dXfeyEE"
      },
      "execution_count": 10,
      "outputs": [
        {
          "output_type": "stream",
          "name": "stdout",
          "text": [
            "Epoch 1/50\n",
            "\u001b[1m1778/1778\u001b[0m \u001b[32m━━━━━━━━━━━━━━━━━━━━\u001b[0m\u001b[37m\u001b[0m \u001b[1m8s\u001b[0m 4ms/step - accuracy: 0.9030 - loss: 0.2879 - val_accuracy: 0.9010 - val_loss: 0.2707\n",
            "Epoch 2/50\n",
            "\u001b[1m1778/1778\u001b[0m \u001b[32m━━━━━━━━━━━━━━━━━━━━\u001b[0m\u001b[37m\u001b[0m \u001b[1m4s\u001b[0m 2ms/step - accuracy: 0.9030 - loss: 0.2646 - val_accuracy: 0.9015 - val_loss: 0.2672\n",
            "Epoch 3/50\n",
            "\u001b[1m1778/1778\u001b[0m \u001b[32m━━━━━━━━━━━━━━━━━━━━\u001b[0m\u001b[37m\u001b[0m \u001b[1m4s\u001b[0m 2ms/step - accuracy: 0.9038 - loss: 0.2637 - val_accuracy: 0.9049 - val_loss: 0.2672\n",
            "Epoch 4/50\n",
            "\u001b[1m1778/1778\u001b[0m \u001b[32m━━━━━━━━━━━━━━━━━━━━\u001b[0m\u001b[37m\u001b[0m \u001b[1m7s\u001b[0m 4ms/step - accuracy: 0.9046 - loss: 0.2611 - val_accuracy: 0.9042 - val_loss: 0.2668\n",
            "Epoch 5/50\n",
            "\u001b[1m1778/1778\u001b[0m \u001b[32m━━━━━━━━━━━━━━━━━━━━\u001b[0m\u001b[37m\u001b[0m \u001b[1m5s\u001b[0m 3ms/step - accuracy: 0.9054 - loss: 0.2604 - val_accuracy: 0.9046 - val_loss: 0.2660\n",
            "Epoch 6/50\n",
            "\u001b[1m1778/1778\u001b[0m \u001b[32m━━━━━━━━━━━━━━━━━━━━\u001b[0m\u001b[37m\u001b[0m \u001b[1m5s\u001b[0m 3ms/step - accuracy: 0.9045 - loss: 0.2620 - val_accuracy: 0.9045 - val_loss: 0.2667\n",
            "Epoch 7/50\n",
            "\u001b[1m1778/1778\u001b[0m \u001b[32m━━━━━━━━━━━━━━━━━━━━\u001b[0m\u001b[37m\u001b[0m \u001b[1m6s\u001b[0m 3ms/step - accuracy: 0.9064 - loss: 0.2559 - val_accuracy: 0.9039 - val_loss: 0.2665\n",
            "Epoch 8/50\n",
            "\u001b[1m1778/1778\u001b[0m \u001b[32m━━━━━━━━━━━━━━━━━━━━\u001b[0m\u001b[37m\u001b[0m \u001b[1m4s\u001b[0m 2ms/step - accuracy: 0.9062 - loss: 0.2562 - val_accuracy: 0.9043 - val_loss: 0.2682\n",
            "Epoch 9/50\n",
            "\u001b[1m1778/1778\u001b[0m \u001b[32m━━━━━━━━━━━━━━━━━━━━\u001b[0m\u001b[37m\u001b[0m \u001b[1m5s\u001b[0m 3ms/step - accuracy: 0.9059 - loss: 0.2552 - val_accuracy: 0.9040 - val_loss: 0.2664\n",
            "Epoch 10/50\n",
            "\u001b[1m1778/1778\u001b[0m \u001b[32m━━━━━━━━━━━━━━━━━━━━\u001b[0m\u001b[37m\u001b[0m \u001b[1m6s\u001b[0m 3ms/step - accuracy: 0.9064 - loss: 0.2526 - val_accuracy: 0.9038 - val_loss: 0.2669\n",
            "Epoch 11/50\n",
            "\u001b[1m1778/1778\u001b[0m \u001b[32m━━━━━━━━━━━━━━━━━━━━\u001b[0m\u001b[37m\u001b[0m \u001b[1m4s\u001b[0m 2ms/step - accuracy: 0.9076 - loss: 0.2508 - val_accuracy: 0.9045 - val_loss: 0.2695\n",
            "Epoch 12/50\n",
            "\u001b[1m1778/1778\u001b[0m \u001b[32m━━━━━━━━━━━━━━━━━━━━\u001b[0m\u001b[37m\u001b[0m \u001b[1m5s\u001b[0m 3ms/step - accuracy: 0.9073 - loss: 0.2508 - val_accuracy: 0.9043 - val_loss: 0.2678\n",
            "Epoch 13/50\n",
            "\u001b[1m1778/1778\u001b[0m \u001b[32m━━━━━━━━━━━━━━━━━━━━\u001b[0m\u001b[37m\u001b[0m \u001b[1m6s\u001b[0m 3ms/step - accuracy: 0.9080 - loss: 0.2520 - val_accuracy: 0.9038 - val_loss: 0.2686\n",
            "Epoch 14/50\n",
            "\u001b[1m1778/1778\u001b[0m \u001b[32m━━━━━━━━━━━━━━━━━━━━\u001b[0m\u001b[37m\u001b[0m \u001b[1m4s\u001b[0m 2ms/step - accuracy: 0.9081 - loss: 0.2490 - val_accuracy: 0.9021 - val_loss: 0.2706\n",
            "Epoch 15/50\n",
            "\u001b[1m1778/1778\u001b[0m \u001b[32m━━━━━━━━━━━━━━━━━━━━\u001b[0m\u001b[37m\u001b[0m \u001b[1m5s\u001b[0m 3ms/step - accuracy: 0.9094 - loss: 0.2476 - val_accuracy: 0.9033 - val_loss: 0.2719\n",
            "Epoch 16/50\n",
            "\u001b[1m1778/1778\u001b[0m \u001b[32m━━━━━━━━━━━━━━━━━━━━\u001b[0m\u001b[37m\u001b[0m \u001b[1m6s\u001b[0m 3ms/step - accuracy: 0.9098 - loss: 0.2457 - val_accuracy: 0.9023 - val_loss: 0.2730\n",
            "Epoch 17/50\n",
            "\u001b[1m1778/1778\u001b[0m \u001b[32m━━━━━━━━━━━━━━━━━━━━\u001b[0m\u001b[37m\u001b[0m \u001b[1m8s\u001b[0m 2ms/step - accuracy: 0.9081 - loss: 0.2476 - val_accuracy: 0.9013 - val_loss: 0.2748\n",
            "Epoch 18/50\n",
            "\u001b[1m1778/1778\u001b[0m \u001b[32m━━━━━━━━━━━━━━━━━━━━\u001b[0m\u001b[37m\u001b[0m \u001b[1m6s\u001b[0m 4ms/step - accuracy: 0.9096 - loss: 0.2429 - val_accuracy: 0.9026 - val_loss: 0.2726\n",
            "Epoch 19/50\n",
            "\u001b[1m1778/1778\u001b[0m \u001b[32m━━━━━━━━━━━━━━━━━━━━\u001b[0m\u001b[37m\u001b[0m \u001b[1m8s\u001b[0m 2ms/step - accuracy: 0.9099 - loss: 0.2425 - val_accuracy: 0.9021 - val_loss: 0.2736\n",
            "Epoch 20/50\n",
            "\u001b[1m1778/1778\u001b[0m \u001b[32m━━━━━━━━━━━━━━━━━━━━\u001b[0m\u001b[37m\u001b[0m \u001b[1m6s\u001b[0m 4ms/step - accuracy: 0.9095 - loss: 0.2430 - val_accuracy: 0.8995 - val_loss: 0.2772\n",
            "Epoch 21/50\n",
            "\u001b[1m1778/1778\u001b[0m \u001b[32m━━━━━━━━━━━━━━━━━━━━\u001b[0m\u001b[37m\u001b[0m \u001b[1m8s\u001b[0m 2ms/step - accuracy: 0.9112 - loss: 0.2394 - val_accuracy: 0.9021 - val_loss: 0.2741\n",
            "Epoch 22/50\n",
            "\u001b[1m1778/1778\u001b[0m \u001b[32m━━━━━━━━━━━━━━━━━━━━\u001b[0m\u001b[37m\u001b[0m \u001b[1m5s\u001b[0m 3ms/step - accuracy: 0.9105 - loss: 0.2398 - val_accuracy: 0.9014 - val_loss: 0.2752\n",
            "Epoch 23/50\n",
            "\u001b[1m1778/1778\u001b[0m \u001b[32m━━━━━━━━━━━━━━━━━━━━\u001b[0m\u001b[37m\u001b[0m \u001b[1m9s\u001b[0m 2ms/step - accuracy: 0.9100 - loss: 0.2432 - val_accuracy: 0.9028 - val_loss: 0.2783\n",
            "Epoch 24/50\n",
            "\u001b[1m1778/1778\u001b[0m \u001b[32m━━━━━━━━━━━━━━━━━━━━\u001b[0m\u001b[37m\u001b[0m \u001b[1m7s\u001b[0m 4ms/step - accuracy: 0.9112 - loss: 0.2369 - val_accuracy: 0.9026 - val_loss: 0.2781\n",
            "Epoch 25/50\n",
            "\u001b[1m1778/1778\u001b[0m \u001b[32m━━━━━━━━━━━━━━━━━━━━\u001b[0m\u001b[37m\u001b[0m \u001b[1m8s\u001b[0m 2ms/step - accuracy: 0.9105 - loss: 0.2396 - val_accuracy: 0.9011 - val_loss: 0.2822\n",
            "Epoch 26/50\n",
            "\u001b[1m1778/1778\u001b[0m \u001b[32m━━━━━━━━━━━━━━━━━━━━\u001b[0m\u001b[37m\u001b[0m \u001b[1m7s\u001b[0m 3ms/step - accuracy: 0.9109 - loss: 0.2378 - val_accuracy: 0.9019 - val_loss: 0.2793\n",
            "Epoch 27/50\n",
            "\u001b[1m1778/1778\u001b[0m \u001b[32m━━━━━━━━━━━━━━━━━━━━\u001b[0m\u001b[37m\u001b[0m \u001b[1m4s\u001b[0m 2ms/step - accuracy: 0.9118 - loss: 0.2354 - val_accuracy: 0.9011 - val_loss: 0.2819\n",
            "Epoch 28/50\n",
            "\u001b[1m1778/1778\u001b[0m \u001b[32m━━━━━━━━━━━━━━━━━━━━\u001b[0m\u001b[37m\u001b[0m \u001b[1m5s\u001b[0m 2ms/step - accuracy: 0.9117 - loss: 0.2338 - val_accuracy: 0.9003 - val_loss: 0.2842\n",
            "Epoch 29/50\n",
            "\u001b[1m1778/1778\u001b[0m \u001b[32m━━━━━━━━━━━━━━━━━━━━\u001b[0m\u001b[37m\u001b[0m \u001b[1m7s\u001b[0m 3ms/step - accuracy: 0.9119 - loss: 0.2346 - val_accuracy: 0.8993 - val_loss: 0.2841\n",
            "Epoch 30/50\n",
            "\u001b[1m1778/1778\u001b[0m \u001b[32m━━━━━━━━━━━━━━━━━━━━\u001b[0m\u001b[37m\u001b[0m \u001b[1m8s\u001b[0m 2ms/step - accuracy: 0.9134 - loss: 0.2320 - val_accuracy: 0.9008 - val_loss: 0.2860\n",
            "Epoch 31/50\n",
            "\u001b[1m1778/1778\u001b[0m \u001b[32m━━━━━━━━━━━━━━━━━━━━\u001b[0m\u001b[37m\u001b[0m \u001b[1m7s\u001b[0m 3ms/step - accuracy: 0.9117 - loss: 0.2341 - val_accuracy: 0.8987 - val_loss: 0.2877\n",
            "Epoch 32/50\n",
            "\u001b[1m1778/1778\u001b[0m \u001b[32m━━━━━━━━━━━━━━━━━━━━\u001b[0m\u001b[37m\u001b[0m \u001b[1m8s\u001b[0m 2ms/step - accuracy: 0.9120 - loss: 0.2314 - val_accuracy: 0.8994 - val_loss: 0.2879\n",
            "Epoch 33/50\n",
            "\u001b[1m1778/1778\u001b[0m \u001b[32m━━━━━━━━━━━━━━━━━━━━\u001b[0m\u001b[37m\u001b[0m \u001b[1m7s\u001b[0m 4ms/step - accuracy: 0.9131 - loss: 0.2299 - val_accuracy: 0.9019 - val_loss: 0.2859\n",
            "Epoch 34/50\n",
            "\u001b[1m1778/1778\u001b[0m \u001b[32m━━━━━━━━━━━━━━━━━━━━\u001b[0m\u001b[37m\u001b[0m \u001b[1m8s\u001b[0m 2ms/step - accuracy: 0.9128 - loss: 0.2305 - val_accuracy: 0.8973 - val_loss: 0.2893\n",
            "Epoch 35/50\n",
            "\u001b[1m1778/1778\u001b[0m \u001b[32m━━━━━━━━━━━━━━━━━━━━\u001b[0m\u001b[37m\u001b[0m \u001b[1m7s\u001b[0m 4ms/step - accuracy: 0.9120 - loss: 0.2311 - val_accuracy: 0.8975 - val_loss: 0.2904\n",
            "Epoch 36/50\n",
            "\u001b[1m1778/1778\u001b[0m \u001b[32m━━━━━━━━━━━━━━━━━━━━\u001b[0m\u001b[37m\u001b[0m \u001b[1m8s\u001b[0m 2ms/step - accuracy: 0.9135 - loss: 0.2308 - val_accuracy: 0.9013 - val_loss: 0.2916\n",
            "Epoch 37/50\n",
            "\u001b[1m1778/1778\u001b[0m \u001b[32m━━━━━━━━━━━━━━━━━━━━\u001b[0m\u001b[37m\u001b[0m \u001b[1m6s\u001b[0m 3ms/step - accuracy: 0.9137 - loss: 0.2279 - val_accuracy: 0.8963 - val_loss: 0.2927\n",
            "Epoch 38/50\n",
            "\u001b[1m1778/1778\u001b[0m \u001b[32m━━━━━━━━━━━━━━━━━━━━\u001b[0m\u001b[37m\u001b[0m \u001b[1m5s\u001b[0m 3ms/step - accuracy: 0.9121 - loss: 0.2295 - val_accuracy: 0.8998 - val_loss: 0.2941\n",
            "Epoch 39/50\n",
            "\u001b[1m1778/1778\u001b[0m \u001b[32m━━━━━━━━━━━━━━━━━━━━\u001b[0m\u001b[37m\u001b[0m \u001b[1m4s\u001b[0m 2ms/step - accuracy: 0.9127 - loss: 0.2287 - val_accuracy: 0.8975 - val_loss: 0.2949\n",
            "Epoch 40/50\n",
            "\u001b[1m1778/1778\u001b[0m \u001b[32m━━━━━━━━━━━━━━━━━━━━\u001b[0m\u001b[37m\u001b[0m \u001b[1m7s\u001b[0m 3ms/step - accuracy: 0.9144 - loss: 0.2266 - val_accuracy: 0.8956 - val_loss: 0.2985\n",
            "Epoch 41/50\n",
            "\u001b[1m1778/1778\u001b[0m \u001b[32m━━━━━━━━━━━━━━━━━━━━\u001b[0m\u001b[37m\u001b[0m \u001b[1m4s\u001b[0m 2ms/step - accuracy: 0.9148 - loss: 0.2257 - val_accuracy: 0.8947 - val_loss: 0.2979\n",
            "Epoch 42/50\n",
            "\u001b[1m1778/1778\u001b[0m \u001b[32m━━━━━━━━━━━━━━━━━━━━\u001b[0m\u001b[37m\u001b[0m \u001b[1m4s\u001b[0m 2ms/step - accuracy: 0.9142 - loss: 0.2240 - val_accuracy: 0.9011 - val_loss: 0.2999\n",
            "Epoch 43/50\n",
            "\u001b[1m1778/1778\u001b[0m \u001b[32m━━━━━━━━━━━━━━━━━━━━\u001b[0m\u001b[37m\u001b[0m \u001b[1m7s\u001b[0m 4ms/step - accuracy: 0.9139 - loss: 0.2261 - val_accuracy: 0.8978 - val_loss: 0.3028\n",
            "Epoch 44/50\n",
            "\u001b[1m1778/1778\u001b[0m \u001b[32m━━━━━━━━━━━━━━━━━━━━\u001b[0m\u001b[37m\u001b[0m \u001b[1m8s\u001b[0m 2ms/step - accuracy: 0.9147 - loss: 0.2249 - val_accuracy: 0.8988 - val_loss: 0.3014\n",
            "Epoch 45/50\n",
            "\u001b[1m1778/1778\u001b[0m \u001b[32m━━━━━━━━━━━━━━━━━━━━\u001b[0m\u001b[37m\u001b[0m \u001b[1m8s\u001b[0m 4ms/step - accuracy: 0.9164 - loss: 0.2197 - val_accuracy: 0.8952 - val_loss: 0.3051\n",
            "Epoch 46/50\n",
            "\u001b[1m1778/1778\u001b[0m \u001b[32m━━━━━━━━━━━━━━━━━━━━\u001b[0m\u001b[37m\u001b[0m \u001b[1m8s\u001b[0m 2ms/step - accuracy: 0.9142 - loss: 0.2257 - val_accuracy: 0.8980 - val_loss: 0.3071\n",
            "Epoch 47/50\n",
            "\u001b[1m1778/1778\u001b[0m \u001b[32m━━━━━━━━━━━━━━━━━━━━\u001b[0m\u001b[37m\u001b[0m \u001b[1m7s\u001b[0m 4ms/step - accuracy: 0.9147 - loss: 0.2232 - val_accuracy: 0.8953 - val_loss: 0.3077\n",
            "Epoch 48/50\n",
            "\u001b[1m1778/1778\u001b[0m \u001b[32m━━━━━━━━━━━━━━━━━━━━\u001b[0m\u001b[37m\u001b[0m \u001b[1m4s\u001b[0m 2ms/step - accuracy: 0.9162 - loss: 0.2191 - val_accuracy: 0.8985 - val_loss: 0.3077\n",
            "Epoch 49/50\n",
            "\u001b[1m1778/1778\u001b[0m \u001b[32m━━━━━━━━━━━━━━━━━━━━\u001b[0m\u001b[37m\u001b[0m \u001b[1m4s\u001b[0m 2ms/step - accuracy: 0.9167 - loss: 0.2203 - val_accuracy: 0.8966 - val_loss: 0.3036\n",
            "Epoch 50/50\n",
            "\u001b[1m1778/1778\u001b[0m \u001b[32m━━━━━━━━━━━━━━━━━━━━\u001b[0m\u001b[37m\u001b[0m \u001b[1m6s\u001b[0m 3ms/step - accuracy: 0.9146 - loss: 0.2227 - val_accuracy: 0.8960 - val_loss: 0.3071\n"
          ]
        },
        {
          "output_type": "execute_result",
          "data": {
            "text/plain": [
              "<keras.src.callbacks.history.History at 0x7ddaa427ded0>"
            ]
          },
          "metadata": {},
          "execution_count": 10
        }
      ]
    },
    {
      "cell_type": "markdown",
      "source": [
        "## Presición del modelo"
      ],
      "metadata": {
        "id": "yqxYblffgZOm"
      }
    },
    {
      "cell_type": "code",
      "source": [
        "loss, acc = modelo_2.evaluate(X_test, y_test)\n",
        "print(acc*100)"
      ],
      "metadata": {
        "colab": {
          "base_uri": "https://localhost:8080/"
        },
        "outputId": "c00fb53b-f068-4fd9-b5e7-3bcc64d5ed82",
        "id": "T2LCm-SagZOp"
      },
      "execution_count": 11,
      "outputs": [
        {
          "output_type": "stream",
          "name": "stdout",
          "text": [
            "\u001b[1m889/889\u001b[0m \u001b[32m━━━━━━━━━━━━━━━━━━━━\u001b[0m\u001b[37m\u001b[0m \u001b[1m1s\u001b[0m 1ms/step - accuracy: 0.8968 - loss: 0.3096\n",
            "89.59805965423584\n"
          ]
        }
      ]
    },
    {
      "cell_type": "markdown",
      "source": [
        "## Realizar predicciones"
      ],
      "metadata": {
        "id": "gXLlzorBgZOr"
      }
    },
    {
      "cell_type": "code",
      "source": [
        "dato.loc[0,'Lect_Periodos_Lectura_Semana'] = 'Más de 6 Períodos'\n",
        "dato.loc[0,'Mate_Periodos_Matematicas_Semana'] = 'Más de seis periodos'\n",
        "dato.loc[0,'Computadora'] = 'Si'\n",
        "dato.loc[0,'Sc_Servicio_Internet'] = 'Si'\n",
        "dato.loc[0,'Sexo_RECO'] = 'Masculino'\n",
        "dato.loc[0,'Edad_RECO'] = '19 años'\n",
        "dato.loc[0,'Lect_Libros_Completos_Ha_Leido'] = 'Más de seis libros'\n",
        "dato.loc[0,'Ed_Repitio_Algun_Grado'] = 'No'\n",
        "dato.loc[0,'Fm_Grado_Alcanzo_Papa_RECO'] = 'Diversificado'\n",
        "dato.loc[0,'Fm_Grado_Alcanzo_Mama_RECO'] = 'Diversificado'\n",
        "dato.loc[0,'Cod_Sector'] = 'Privado'\n",
        "dato.loc[0,'Cod_Area'] = 'Urbana'\n",
        "dato.loc[0,'Cod_Region'] = 'Región 1 o Metropolitana'\n",
        "\n",
        "dato_onehot = pd.get_dummies(dato)\n",
        "p = modelo_2.predict(dato_onehot)\n",
        "p = pd.DataFrame(p, columns=['Logro', 'No Logro'])\n",
        "p"
      ],
      "metadata": {
        "colab": {
          "base_uri": "https://localhost:8080/",
          "height": 106
        },
        "outputId": "8da6f9b8-f197-43ba-e417-3020af3920f6",
        "id": "XtcgKcahgZOs"
      },
      "execution_count": 56,
      "outputs": [
        {
          "output_type": "stream",
          "name": "stdout",
          "text": [
            "\u001b[1m1/1\u001b[0m \u001b[32m━━━━━━━━━━━━━━━━━━━━\u001b[0m\u001b[37m\u001b[0m \u001b[1m0s\u001b[0m 49ms/step\n"
          ]
        },
        {
          "output_type": "execute_result",
          "data": {
            "text/plain": [
              "      Logro  No Logro\n",
              "0  0.200665  0.799149"
            ],
            "text/html": [
              "\n",
              "  <div id=\"df-824973fd-9ee3-4f63-bff8-d11da7ce207d\" class=\"colab-df-container\">\n",
              "    <div>\n",
              "<style scoped>\n",
              "    .dataframe tbody tr th:only-of-type {\n",
              "        vertical-align: middle;\n",
              "    }\n",
              "\n",
              "    .dataframe tbody tr th {\n",
              "        vertical-align: top;\n",
              "    }\n",
              "\n",
              "    .dataframe thead th {\n",
              "        text-align: right;\n",
              "    }\n",
              "</style>\n",
              "<table border=\"1\" class=\"dataframe\">\n",
              "  <thead>\n",
              "    <tr style=\"text-align: right;\">\n",
              "      <th></th>\n",
              "      <th>Logro</th>\n",
              "      <th>No Logro</th>\n",
              "    </tr>\n",
              "  </thead>\n",
              "  <tbody>\n",
              "    <tr>\n",
              "      <th>0</th>\n",
              "      <td>0.200665</td>\n",
              "      <td>0.799149</td>\n",
              "    </tr>\n",
              "  </tbody>\n",
              "</table>\n",
              "</div>\n",
              "    <div class=\"colab-df-buttons\">\n",
              "\n",
              "  <div class=\"colab-df-container\">\n",
              "    <button class=\"colab-df-convert\" onclick=\"convertToInteractive('df-824973fd-9ee3-4f63-bff8-d11da7ce207d')\"\n",
              "            title=\"Convert this dataframe to an interactive table.\"\n",
              "            style=\"display:none;\">\n",
              "\n",
              "  <svg xmlns=\"http://www.w3.org/2000/svg\" height=\"24px\" viewBox=\"0 -960 960 960\">\n",
              "    <path d=\"M120-120v-720h720v720H120Zm60-500h600v-160H180v160Zm220 220h160v-160H400v160Zm0 220h160v-160H400v160ZM180-400h160v-160H180v160Zm440 0h160v-160H620v160ZM180-180h160v-160H180v160Zm440 0h160v-160H620v160Z\"/>\n",
              "  </svg>\n",
              "    </button>\n",
              "\n",
              "  <style>\n",
              "    .colab-df-container {\n",
              "      display:flex;\n",
              "      gap: 12px;\n",
              "    }\n",
              "\n",
              "    .colab-df-convert {\n",
              "      background-color: #E8F0FE;\n",
              "      border: none;\n",
              "      border-radius: 50%;\n",
              "      cursor: pointer;\n",
              "      display: none;\n",
              "      fill: #1967D2;\n",
              "      height: 32px;\n",
              "      padding: 0 0 0 0;\n",
              "      width: 32px;\n",
              "    }\n",
              "\n",
              "    .colab-df-convert:hover {\n",
              "      background-color: #E2EBFA;\n",
              "      box-shadow: 0px 1px 2px rgba(60, 64, 67, 0.3), 0px 1px 3px 1px rgba(60, 64, 67, 0.15);\n",
              "      fill: #174EA6;\n",
              "    }\n",
              "\n",
              "    .colab-df-buttons div {\n",
              "      margin-bottom: 4px;\n",
              "    }\n",
              "\n",
              "    [theme=dark] .colab-df-convert {\n",
              "      background-color: #3B4455;\n",
              "      fill: #D2E3FC;\n",
              "    }\n",
              "\n",
              "    [theme=dark] .colab-df-convert:hover {\n",
              "      background-color: #434B5C;\n",
              "      box-shadow: 0px 1px 3px 1px rgba(0, 0, 0, 0.15);\n",
              "      filter: drop-shadow(0px 1px 2px rgba(0, 0, 0, 0.3));\n",
              "      fill: #FFFFFF;\n",
              "    }\n",
              "  </style>\n",
              "\n",
              "    <script>\n",
              "      const buttonEl =\n",
              "        document.querySelector('#df-824973fd-9ee3-4f63-bff8-d11da7ce207d button.colab-df-convert');\n",
              "      buttonEl.style.display =\n",
              "        google.colab.kernel.accessAllowed ? 'block' : 'none';\n",
              "\n",
              "      async function convertToInteractive(key) {\n",
              "        const element = document.querySelector('#df-824973fd-9ee3-4f63-bff8-d11da7ce207d');\n",
              "        const dataTable =\n",
              "          await google.colab.kernel.invokeFunction('convertToInteractive',\n",
              "                                                    [key], {});\n",
              "        if (!dataTable) return;\n",
              "\n",
              "        const docLinkHtml = 'Like what you see? Visit the ' +\n",
              "          '<a target=\"_blank\" href=https://colab.research.google.com/notebooks/data_table.ipynb>data table notebook</a>'\n",
              "          + ' to learn more about interactive tables.';\n",
              "        element.innerHTML = '';\n",
              "        dataTable['output_type'] = 'display_data';\n",
              "        await google.colab.output.renderOutput(dataTable, element);\n",
              "        const docLink = document.createElement('div');\n",
              "        docLink.innerHTML = docLinkHtml;\n",
              "        element.appendChild(docLink);\n",
              "      }\n",
              "    </script>\n",
              "  </div>\n",
              "\n",
              "\n",
              "  <div id=\"id_0f362511-bc74-44e2-bf44-e8253385abae\">\n",
              "    <style>\n",
              "      .colab-df-generate {\n",
              "        background-color: #E8F0FE;\n",
              "        border: none;\n",
              "        border-radius: 50%;\n",
              "        cursor: pointer;\n",
              "        display: none;\n",
              "        fill: #1967D2;\n",
              "        height: 32px;\n",
              "        padding: 0 0 0 0;\n",
              "        width: 32px;\n",
              "      }\n",
              "\n",
              "      .colab-df-generate:hover {\n",
              "        background-color: #E2EBFA;\n",
              "        box-shadow: 0px 1px 2px rgba(60, 64, 67, 0.3), 0px 1px 3px 1px rgba(60, 64, 67, 0.15);\n",
              "        fill: #174EA6;\n",
              "      }\n",
              "\n",
              "      [theme=dark] .colab-df-generate {\n",
              "        background-color: #3B4455;\n",
              "        fill: #D2E3FC;\n",
              "      }\n",
              "\n",
              "      [theme=dark] .colab-df-generate:hover {\n",
              "        background-color: #434B5C;\n",
              "        box-shadow: 0px 1px 3px 1px rgba(0, 0, 0, 0.15);\n",
              "        filter: drop-shadow(0px 1px 2px rgba(0, 0, 0, 0.3));\n",
              "        fill: #FFFFFF;\n",
              "      }\n",
              "    </style>\n",
              "    <button class=\"colab-df-generate\" onclick=\"generateWithVariable('p')\"\n",
              "            title=\"Generate code using this dataframe.\"\n",
              "            style=\"display:none;\">\n",
              "\n",
              "  <svg xmlns=\"http://www.w3.org/2000/svg\" height=\"24px\"viewBox=\"0 0 24 24\"\n",
              "       width=\"24px\">\n",
              "    <path d=\"M7,19H8.4L18.45,9,17,7.55,7,17.6ZM5,21V16.75L18.45,3.32a2,2,0,0,1,2.83,0l1.4,1.43a1.91,1.91,0,0,1,.58,1.4,1.91,1.91,0,0,1-.58,1.4L9.25,21ZM18.45,9,17,7.55Zm-12,3A5.31,5.31,0,0,0,4.9,8.1,5.31,5.31,0,0,0,1,6.5,5.31,5.31,0,0,0,4.9,4.9,5.31,5.31,0,0,0,6.5,1,5.31,5.31,0,0,0,8.1,4.9,5.31,5.31,0,0,0,12,6.5,5.46,5.46,0,0,0,6.5,12Z\"/>\n",
              "  </svg>\n",
              "    </button>\n",
              "    <script>\n",
              "      (() => {\n",
              "      const buttonEl =\n",
              "        document.querySelector('#id_0f362511-bc74-44e2-bf44-e8253385abae button.colab-df-generate');\n",
              "      buttonEl.style.display =\n",
              "        google.colab.kernel.accessAllowed ? 'block' : 'none';\n",
              "\n",
              "      buttonEl.onclick = () => {\n",
              "        google.colab.notebook.generateWithVariable('p');\n",
              "      }\n",
              "      })();\n",
              "    </script>\n",
              "  </div>\n",
              "\n",
              "    </div>\n",
              "  </div>\n"
            ],
            "application/vnd.google.colaboratory.intrinsic+json": {
              "type": "dataframe",
              "variable_name": "p",
              "summary": "{\n  \"name\": \"p\",\n  \"rows\": 1,\n  \"fields\": [\n    {\n      \"column\": \"Logro\",\n      \"properties\": {\n        \"dtype\": \"float32\",\n        \"num_unique_values\": 1,\n        \"samples\": [\n          0.2006654143333435\n        ],\n        \"semantic_type\": \"\",\n        \"description\": \"\"\n      }\n    },\n    {\n      \"column\": \"No Logro\",\n      \"properties\": {\n        \"dtype\": \"float32\",\n        \"num_unique_values\": 1,\n        \"samples\": [\n          0.7991487979888916\n        ],\n        \"semantic_type\": \"\",\n        \"description\": \"\"\n      }\n    }\n  ]\n}"
            }
          },
          "metadata": {},
          "execution_count": 56
        }
      ]
    },
    {
      "cell_type": "code",
      "source": [
        "dato.loc[0,'Lect_Periodos_Lectura_Semana'] = '6 Períodos'\n",
        "dato.loc[0,'Mate_Periodos_Matematicas_Semana'] = 'Seis periodos'\n",
        "dato.loc[0,'Computadora'] = 'Si'\n",
        "dato.loc[0,'Sc_Servicio_Internet'] = 'Si'\n",
        "dato.loc[0,'Sexo_RECO'] = 'Femenino'\n",
        "dato.loc[0,'Edad_RECO'] = '18 años'\n",
        "dato.loc[0,'Lect_Libros_Completos_Ha_Leido'] = 'Seis libros'\n",
        "dato.loc[0,'Ed_Repitio_Algun_Grado'] = 'No'\n",
        "dato.loc[0,'Fm_Grado_Alcanzo_Papa_RECO'] = 'Universidad o más'\n",
        "dato.loc[0,'Fm_Grado_Alcanzo_Mama_RECO'] = 'Universidad o más'\n",
        "dato.loc[0,'Cod_Sector'] = 'Privado'\n",
        "dato.loc[0,'Cod_Area'] = 'Rural'\n",
        "dato.loc[0,'Cod_Region'] = 'Región 8 o Petén'\n",
        "\n",
        "dato_onehot = pd.get_dummies(dato)\n",
        "p = modelo_2.predict(dato_onehot)\n",
        "p = pd.DataFrame(p, columns=['Logro', 'No Logro'])\n",
        "p"
      ],
      "metadata": {
        "colab": {
          "base_uri": "https://localhost:8080/",
          "height": 106
        },
        "id": "LthiGxfPnIyF",
        "outputId": "1bdff754-efe8-4db5-e180-86bccfe7963b"
      },
      "execution_count": 36,
      "outputs": [
        {
          "output_type": "stream",
          "name": "stdout",
          "text": [
            "\u001b[1m1/1\u001b[0m \u001b[32m━━━━━━━━━━━━━━━━━━━━\u001b[0m\u001b[37m\u001b[0m \u001b[1m0s\u001b[0m 24ms/step\n"
          ]
        },
        {
          "output_type": "execute_result",
          "data": {
            "text/plain": [
              "      Logro  No Logro\n",
              "0  0.859851   0.13685"
            ],
            "text/html": [
              "\n",
              "  <div id=\"df-4ec7752a-ef49-4252-b953-012a54a6ebe3\" class=\"colab-df-container\">\n",
              "    <div>\n",
              "<style scoped>\n",
              "    .dataframe tbody tr th:only-of-type {\n",
              "        vertical-align: middle;\n",
              "    }\n",
              "\n",
              "    .dataframe tbody tr th {\n",
              "        vertical-align: top;\n",
              "    }\n",
              "\n",
              "    .dataframe thead th {\n",
              "        text-align: right;\n",
              "    }\n",
              "</style>\n",
              "<table border=\"1\" class=\"dataframe\">\n",
              "  <thead>\n",
              "    <tr style=\"text-align: right;\">\n",
              "      <th></th>\n",
              "      <th>Logro</th>\n",
              "      <th>No Logro</th>\n",
              "    </tr>\n",
              "  </thead>\n",
              "  <tbody>\n",
              "    <tr>\n",
              "      <th>0</th>\n",
              "      <td>0.859851</td>\n",
              "      <td>0.13685</td>\n",
              "    </tr>\n",
              "  </tbody>\n",
              "</table>\n",
              "</div>\n",
              "    <div class=\"colab-df-buttons\">\n",
              "\n",
              "  <div class=\"colab-df-container\">\n",
              "    <button class=\"colab-df-convert\" onclick=\"convertToInteractive('df-4ec7752a-ef49-4252-b953-012a54a6ebe3')\"\n",
              "            title=\"Convert this dataframe to an interactive table.\"\n",
              "            style=\"display:none;\">\n",
              "\n",
              "  <svg xmlns=\"http://www.w3.org/2000/svg\" height=\"24px\" viewBox=\"0 -960 960 960\">\n",
              "    <path d=\"M120-120v-720h720v720H120Zm60-500h600v-160H180v160Zm220 220h160v-160H400v160Zm0 220h160v-160H400v160ZM180-400h160v-160H180v160Zm440 0h160v-160H620v160ZM180-180h160v-160H180v160Zm440 0h160v-160H620v160Z\"/>\n",
              "  </svg>\n",
              "    </button>\n",
              "\n",
              "  <style>\n",
              "    .colab-df-container {\n",
              "      display:flex;\n",
              "      gap: 12px;\n",
              "    }\n",
              "\n",
              "    .colab-df-convert {\n",
              "      background-color: #E8F0FE;\n",
              "      border: none;\n",
              "      border-radius: 50%;\n",
              "      cursor: pointer;\n",
              "      display: none;\n",
              "      fill: #1967D2;\n",
              "      height: 32px;\n",
              "      padding: 0 0 0 0;\n",
              "      width: 32px;\n",
              "    }\n",
              "\n",
              "    .colab-df-convert:hover {\n",
              "      background-color: #E2EBFA;\n",
              "      box-shadow: 0px 1px 2px rgba(60, 64, 67, 0.3), 0px 1px 3px 1px rgba(60, 64, 67, 0.15);\n",
              "      fill: #174EA6;\n",
              "    }\n",
              "\n",
              "    .colab-df-buttons div {\n",
              "      margin-bottom: 4px;\n",
              "    }\n",
              "\n",
              "    [theme=dark] .colab-df-convert {\n",
              "      background-color: #3B4455;\n",
              "      fill: #D2E3FC;\n",
              "    }\n",
              "\n",
              "    [theme=dark] .colab-df-convert:hover {\n",
              "      background-color: #434B5C;\n",
              "      box-shadow: 0px 1px 3px 1px rgba(0, 0, 0, 0.15);\n",
              "      filter: drop-shadow(0px 1px 2px rgba(0, 0, 0, 0.3));\n",
              "      fill: #FFFFFF;\n",
              "    }\n",
              "  </style>\n",
              "\n",
              "    <script>\n",
              "      const buttonEl =\n",
              "        document.querySelector('#df-4ec7752a-ef49-4252-b953-012a54a6ebe3 button.colab-df-convert');\n",
              "      buttonEl.style.display =\n",
              "        google.colab.kernel.accessAllowed ? 'block' : 'none';\n",
              "\n",
              "      async function convertToInteractive(key) {\n",
              "        const element = document.querySelector('#df-4ec7752a-ef49-4252-b953-012a54a6ebe3');\n",
              "        const dataTable =\n",
              "          await google.colab.kernel.invokeFunction('convertToInteractive',\n",
              "                                                    [key], {});\n",
              "        if (!dataTable) return;\n",
              "\n",
              "        const docLinkHtml = 'Like what you see? Visit the ' +\n",
              "          '<a target=\"_blank\" href=https://colab.research.google.com/notebooks/data_table.ipynb>data table notebook</a>'\n",
              "          + ' to learn more about interactive tables.';\n",
              "        element.innerHTML = '';\n",
              "        dataTable['output_type'] = 'display_data';\n",
              "        await google.colab.output.renderOutput(dataTable, element);\n",
              "        const docLink = document.createElement('div');\n",
              "        docLink.innerHTML = docLinkHtml;\n",
              "        element.appendChild(docLink);\n",
              "      }\n",
              "    </script>\n",
              "  </div>\n",
              "\n",
              "\n",
              "  <div id=\"id_6a4f5751-d7ac-40d2-8a70-2b31065b0027\">\n",
              "    <style>\n",
              "      .colab-df-generate {\n",
              "        background-color: #E8F0FE;\n",
              "        border: none;\n",
              "        border-radius: 50%;\n",
              "        cursor: pointer;\n",
              "        display: none;\n",
              "        fill: #1967D2;\n",
              "        height: 32px;\n",
              "        padding: 0 0 0 0;\n",
              "        width: 32px;\n",
              "      }\n",
              "\n",
              "      .colab-df-generate:hover {\n",
              "        background-color: #E2EBFA;\n",
              "        box-shadow: 0px 1px 2px rgba(60, 64, 67, 0.3), 0px 1px 3px 1px rgba(60, 64, 67, 0.15);\n",
              "        fill: #174EA6;\n",
              "      }\n",
              "\n",
              "      [theme=dark] .colab-df-generate {\n",
              "        background-color: #3B4455;\n",
              "        fill: #D2E3FC;\n",
              "      }\n",
              "\n",
              "      [theme=dark] .colab-df-generate:hover {\n",
              "        background-color: #434B5C;\n",
              "        box-shadow: 0px 1px 3px 1px rgba(0, 0, 0, 0.15);\n",
              "        filter: drop-shadow(0px 1px 2px rgba(0, 0, 0, 0.3));\n",
              "        fill: #FFFFFF;\n",
              "      }\n",
              "    </style>\n",
              "    <button class=\"colab-df-generate\" onclick=\"generateWithVariable('p')\"\n",
              "            title=\"Generate code using this dataframe.\"\n",
              "            style=\"display:none;\">\n",
              "\n",
              "  <svg xmlns=\"http://www.w3.org/2000/svg\" height=\"24px\"viewBox=\"0 0 24 24\"\n",
              "       width=\"24px\">\n",
              "    <path d=\"M7,19H8.4L18.45,9,17,7.55,7,17.6ZM5,21V16.75L18.45,3.32a2,2,0,0,1,2.83,0l1.4,1.43a1.91,1.91,0,0,1,.58,1.4,1.91,1.91,0,0,1-.58,1.4L9.25,21ZM18.45,9,17,7.55Zm-12,3A5.31,5.31,0,0,0,4.9,8.1,5.31,5.31,0,0,0,1,6.5,5.31,5.31,0,0,0,4.9,4.9,5.31,5.31,0,0,0,6.5,1,5.31,5.31,0,0,0,8.1,4.9,5.31,5.31,0,0,0,12,6.5,5.46,5.46,0,0,0,6.5,12Z\"/>\n",
              "  </svg>\n",
              "    </button>\n",
              "    <script>\n",
              "      (() => {\n",
              "      const buttonEl =\n",
              "        document.querySelector('#id_6a4f5751-d7ac-40d2-8a70-2b31065b0027 button.colab-df-generate');\n",
              "      buttonEl.style.display =\n",
              "        google.colab.kernel.accessAllowed ? 'block' : 'none';\n",
              "\n",
              "      buttonEl.onclick = () => {\n",
              "        google.colab.notebook.generateWithVariable('p');\n",
              "      }\n",
              "      })();\n",
              "    </script>\n",
              "  </div>\n",
              "\n",
              "    </div>\n",
              "  </div>\n"
            ],
            "application/vnd.google.colaboratory.intrinsic+json": {
              "type": "dataframe",
              "variable_name": "p",
              "summary": "{\n  \"name\": \"p\",\n  \"rows\": 1,\n  \"fields\": [\n    {\n      \"column\": \"Logro\",\n      \"properties\": {\n        \"dtype\": \"float32\",\n        \"num_unique_values\": 1,\n        \"samples\": [\n          0.859851062297821\n        ],\n        \"semantic_type\": \"\",\n        \"description\": \"\"\n      }\n    },\n    {\n      \"column\": \"No Logro\",\n      \"properties\": {\n        \"dtype\": \"float32\",\n        \"num_unique_values\": 1,\n        \"samples\": [\n          0.13685008883476257\n        ],\n        \"semantic_type\": \"\",\n        \"description\": \"\"\n      }\n    }\n  ]\n}"
            }
          },
          "metadata": {},
          "execution_count": 36
        }
      ]
    }
  ]
}